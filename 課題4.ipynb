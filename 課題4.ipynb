{
  "nbformat": 4,
  "nbformat_minor": 0,
  "metadata": {
    "colab": {
      "name": "課題4",
      "provenance": [],
      "authorship_tag": "ABX9TyP6WtZxlgdTJhdxSm3iC2nk",
      "include_colab_link": true
    },
    "kernelspec": {
      "name": "python3",
      "display_name": "Python 3"
    }
  },
  "cells": [
    {
      "cell_type": "markdown",
      "metadata": {
        "id": "view-in-github",
        "colab_type": "text"
      },
      "source": [
        "<a href=\"https://colab.research.google.com/github/RT926/techachademymagazine/blob/master/%E8%AA%B2%E9%A1%8C4.ipynb\" target=\"_parent\"><img src=\"https://colab.research.google.com/assets/colab-badge.svg\" alt=\"Open In Colab\"/></a>"
      ]
    },
    {
      "cell_type": "code",
      "metadata": {
        "colab": {
          "base_uri": "https://localhost:8080/"
        },
        "id": "mqKnoMcINU7U",
        "outputId": "36a7c1d7-d888-4587-eff3-a191c5f55b1f"
      },
      "source": [
        "text_a=\"{}巻き髪、{}巻き髪、{}巻き髪。\"\n",
        "print(text_a.format(\"赤\",\"青\",\"黄\"))"
      ],
      "execution_count": 3,
      "outputs": [
        {
          "output_type": "stream",
          "text": [
            "赤巻き髪、青巻き髪、黄巻き髪。\n"
          ],
          "name": "stdout"
        }
      ]
    },
    {
      "cell_type": "code",
      "metadata": {
        "colab": {
          "base_uri": "https://localhost:8080/"
        },
        "id": "6SvLYtUlNxil",
        "outputId": "cef0ad8d-e8d6-4cd2-8919-5590847f16cd"
      },
      "source": [
        "text=\"{name}の戦闘力は{power}です。\"\n",
        "print(text.format(power=530000,name=\"私\"))"
      ],
      "execution_count": 6,
      "outputs": [
        {
          "output_type": "stream",
          "text": [
            "私の戦闘力は530000です。\n"
          ],
          "name": "stdout"
        }
      ]
    },
    {
      "cell_type": "code",
      "metadata": {
        "colab": {
          "base_uri": "https://localhost:8080/"
        },
        "id": "BAOgaRtwOOj7",
        "outputId": "3b7fe056-39ac-4055-d182-51bc9cd0e6fd"
      },
      "source": [
        "text=\"{}の戦闘力は{}です。\"\n",
        "list=[\"私\",530000]\n",
        "result=text.format(*list)\n",
        "print(result)"
      ],
      "execution_count": 7,
      "outputs": [
        {
          "output_type": "stream",
          "text": [
            "私の戦闘力は530000です。\n"
          ],
          "name": "stdout"
        }
      ]
    },
    {
      "cell_type": "code",
      "metadata": {
        "colab": {
          "base_uri": "https://localhost:8080/"
        },
        "id": "JWngUtZdQ-_1",
        "outputId": "007ad343-7874-431b-add9-1c8bbe55b7f0"
      },
      "source": [
        "text=\"{text1}は{text2}です。\"\n",
        "text1=input(\"入力1\")\n",
        "text2=input(\"入力2\")\n",
        "result=text.format(text1=text1,text2=text2)\n",
        "print(result)"
      ],
      "execution_count": 10,
      "outputs": [
        {
          "output_type": "stream",
          "text": [
            "入力1この講義の講師\n",
            "入力2めっちゃイケメン\n",
            "この講義の講師はめっちゃイケメンです。\n"
          ],
          "name": "stdout"
        }
      ]
    },
    {
      "cell_type": "code",
      "metadata": {
        "id": "rNnfnTIbRawW"
      },
      "source": [
        ""
      ],
      "execution_count": null,
      "outputs": []
    }
  ]
}