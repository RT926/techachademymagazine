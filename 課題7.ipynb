{
  "nbformat": 4,
  "nbformat_minor": 0,
  "metadata": {
    "colab": {
      "name": "課題7",
      "provenance": [],
      "authorship_tag": "ABX9TyP1G90tGpuIjzZbV8Pep1DV",
      "include_colab_link": true
    },
    "kernelspec": {
      "name": "python3",
      "display_name": "Python 3"
    }
  },
  "cells": [
    {
      "cell_type": "markdown",
      "metadata": {
        "id": "view-in-github",
        "colab_type": "text"
      },
      "source": [
        "<a href=\"https://colab.research.google.com/github/RT926/techachademymagazine/blob/master/%E8%AA%B2%E9%A1%8C7.ipynb\" target=\"_parent\"><img src=\"https://colab.research.google.com/assets/colab-badge.svg\" alt=\"Open In Colab\"/></a>"
      ]
    },
    {
      "cell_type": "code",
      "metadata": {
        "colab": {
          "base_uri": "https://localhost:8080/"
        },
        "id": "9tNJyBbSRrbH",
        "outputId": "f16d2f10-84a9-477a-a555-fb739f9c97ea"
      },
      "source": [
        "import math\n",
        "print(math.pi)"
      ],
      "execution_count": 1,
      "outputs": [
        {
          "output_type": "stream",
          "text": [
            "3.141592653589793\n"
          ],
          "name": "stdout"
        }
      ]
    },
    {
      "cell_type": "code",
      "metadata": {
        "colab": {
          "base_uri": "https://localhost:8080/"
        },
        "id": "L8JduWCARzMl",
        "outputId": "c9503124-61ff-43ea-f8e8-45690cf99511"
      },
      "source": [
        "num=float(input(\"何度ですか?\"))\n",
        "result=math.radians(num)\n",
        "print(\"ラジアンに直すと{}です\".format(result))"
      ],
      "execution_count": 5,
      "outputs": [
        {
          "output_type": "stream",
          "text": [
            "何度ですか?90\n",
            "ラジアンに直すと1.5707963267948966です\n"
          ],
          "name": "stdout"
        }
      ]
    },
    {
      "cell_type": "code",
      "metadata": {
        "colab": {
          "base_uri": "https://localhost:8080/"
        },
        "id": "RTjLRPubTFK1",
        "outputId": "23f8fd80-db68-474f-cb88-58002b5a2140"
      },
      "source": [
        "num=float(input(\"何アトムですか?\"))\n",
        "result_mmHg=760*num\n",
        "result_Pa=101325*num\n",
        "result_kgfcm2=1.03323*num\n",
        "print(\"{}mmHg\".format(result_mmHg))\n",
        "print(\"{}Pa\".format(result_Pa))\n",
        "print(\"{}kgf/cm^2\".format(result_kgfcm2))"
      ],
      "execution_count": 10,
      "outputs": [
        {
          "output_type": "stream",
          "text": [
            "何アトムですか?1\n",
            "760.0mmHg\n",
            "101325.0Pa\n",
            "1.03323kgf/cm^2\n"
          ],
          "name": "stdout"
        }
      ]
    },
    {
      "cell_type": "code",
      "metadata": {
        "id": "qQN7jrdGcVWt"
      },
      "source": [
        ""
      ],
      "execution_count": null,
      "outputs": []
    }
  ]
}