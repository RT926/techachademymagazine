{
  "nbformat": 4,
  "nbformat_minor": 0,
  "metadata": {
    "colab": {
      "name": "課題6 math",
      "provenance": [],
      "authorship_tag": "ABX9TyMUH4JcOP2N5EFy/zOQpVaC",
      "include_colab_link": true
    },
    "kernelspec": {
      "name": "python3",
      "display_name": "Python 3"
    }
  },
  "cells": [
    {
      "cell_type": "markdown",
      "metadata": {
        "id": "view-in-github",
        "colab_type": "text"
      },
      "source": [
        "<a href=\"https://colab.research.google.com/github/RT926/techachademymagazine/blob/master/%E8%AA%B2%E9%A1%8C6_math.ipynb\" target=\"_parent\"><img src=\"https://colab.research.google.com/assets/colab-badge.svg\" alt=\"Open In Colab\"/></a>"
      ]
    },
    {
      "cell_type": "code",
      "metadata": {
        "colab": {
          "base_uri": "https://localhost:8080/"
        },
        "id": "B5a8vIufgbXI",
        "outputId": "abc5ecc0-3ca2-4fc0-93f3-a70b218d9be8"
      },
      "source": [
        "import math\n",
        "\n",
        "a=2\n",
        "result=math.sqrt(a)\n",
        "print(result)"
      ],
      "execution_count": 1,
      "outputs": [
        {
          "output_type": "stream",
          "text": [
            "1.4142135623730951\n"
          ],
          "name": "stdout"
        }
      ]
    },
    {
      "cell_type": "code",
      "metadata": {
        "colab": {
          "base_uri": "https://localhost:8080/"
        },
        "id": "SJXSNNtbg_IU",
        "outputId": "45e142f6-8a6a-4b8a-a3ab-731df828ad2f"
      },
      "source": [
        "#少数第一位切り上げ\n",
        "b=3.2\n",
        "result=math.ceil(b)  \n",
        "print(result)"
      ],
      "execution_count": 4,
      "outputs": [
        {
          "output_type": "stream",
          "text": [
            "4\n"
          ],
          "name": "stdout"
        }
      ]
    },
    {
      "cell_type": "code",
      "metadata": {
        "colab": {
          "base_uri": "https://localhost:8080/"
        },
        "id": "I5kfWZEAhuCi",
        "outputId": "88b557bf-cb44-48b7-9eeb-6cf3fb7fd4a6"
      },
      "source": [
        "#一つ目の数値の絶対値で二つ目と同じ符号の数値を返す\n",
        "c=4\n",
        "d=-3\n",
        "result=math.copysign(c,d)\n",
        "print(result)"
      ],
      "execution_count": 6,
      "outputs": [
        {
          "output_type": "stream",
          "text": [
            "-4.0\n"
          ],
          "name": "stdout"
        }
      ]
    },
    {
      "cell_type": "code",
      "metadata": {
        "colab": {
          "base_uri": "https://localhost:8080/"
        },
        "id": "K2h3DOIkjFLq",
        "outputId": "327d655c-f000-4ad7-b6ed-9745632e782b"
      },
      "source": [
        "#アークコサイン\n",
        "e=0.6\n",
        "result=math.acos(e)\n",
        "print(result)"
      ],
      "execution_count": 12,
      "outputs": [
        {
          "output_type": "stream",
          "text": [
            "0.9272952180016123\n"
          ],
          "name": "stdout"
        }
      ]
    },
    {
      "cell_type": "code",
      "metadata": {
        "colab": {
          "base_uri": "https://localhost:8080/"
        },
        "id": "iWHoOydclMgi",
        "outputId": "4f0476eb-1a51-4faa-907b-c1b676a84cbe"
      },
      "source": [
        "#ハイパボリックコサインの逆関数\n",
        "f=2\n",
        "result=math.acosh(f)\n",
        "print(result)"
      ],
      "execution_count": 14,
      "outputs": [
        {
          "output_type": "stream",
          "text": [
            "1.3169578969248166\n"
          ],
          "name": "stdout"
        }
      ]
    },
    {
      "cell_type": "code",
      "metadata": {
        "colab": {
          "base_uri": "https://localhost:8080/"
        },
        "id": "ABhfLQ2Nn98W",
        "outputId": "b651e1a1-87c7-421f-afa0-183dee4c3a6a"
      },
      "source": [
        "#アークサイン\n",
        "g=0.6\n",
        "result=math.asin(g)\n",
        "print(result)"
      ],
      "execution_count": 16,
      "outputs": [
        {
          "output_type": "stream",
          "text": [
            "0.6435011087932844\n"
          ],
          "name": "stdout"
        }
      ]
    },
    {
      "cell_type": "code",
      "metadata": {
        "colab": {
          "base_uri": "https://localhost:8080/"
        },
        "id": "5LxMUiC7oMRE",
        "outputId": "4ceee85a-8e97-47c2-8763-9ae56b5e1957"
      },
      "source": [
        "#ハイパボリックサインの逆関数\n",
        "h=2\n",
        "result=math.asinh(h)\n",
        "print(result)"
      ],
      "execution_count": 17,
      "outputs": [
        {
          "output_type": "stream",
          "text": [
            "1.4436354751788103\n"
          ],
          "name": "stdout"
        }
      ]
    },
    {
      "cell_type": "code",
      "metadata": {
        "colab": {
          "base_uri": "https://localhost:8080/"
        },
        "id": "GO-Uc_FAomnb",
        "outputId": "152a8e62-fc7d-4e0b-8475-25a30bc786ae"
      },
      "source": [
        "import math\n",
        "\n",
        "num1=float(input(\"底となる数値\"))\n",
        "num2=float(input(\"対数を取る数値\"))\n",
        "result=math.log(num2,num1)\n",
        "print(result)"
      ],
      "execution_count": 2,
      "outputs": [
        {
          "output_type": "stream",
          "text": [
            "底となる数値2\n",
            "対数を取る数値8\n",
            "3.0\n"
          ],
          "name": "stdout"
        }
      ]
    },
    {
      "cell_type": "code",
      "metadata": {
        "id": "_iUKLXu5OPiz"
      },
      "source": [
        ""
      ],
      "execution_count": null,
      "outputs": []
    }
  ]
}